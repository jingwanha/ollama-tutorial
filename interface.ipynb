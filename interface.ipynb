{
 "cells": [
  {
   "cell_type": "markdown",
   "metadata": {},
   "source": [
    "# Ollama Interface 호출방법"
   ]
  },
  {
   "cell_type": "markdown",
   "metadata": {},
   "source": [
    "## OpenAI"
   ]
  },
  {
   "cell_type": "code",
   "execution_count": null,
   "metadata": {},
   "outputs": [],
   "source": [
    "from openai import OpenAI\n",
    "model_name = 'eeve'\n",
    "client = OpenAI(base_url='http://localhost:11434/v1',\n",
    "                api_key=\"ollama\")\n",
    "\n",
    "response = client.chat.completions.create(\n",
    "    model=model_name,\n",
    "    messages = [{\"role\" : \"system\", \"content\" : \"Yor are a helpful assistant.\"},\n",
    "        {\"role\" : \"user\" , \"content\" : \"hi\"}\n",
    "        ]\n",
    ")\n",
    "\n",
    "print(response.choices[0].message.content)"
   ]
  },
  {
   "cell_type": "markdown",
   "metadata": {},
   "source": [
    "## Langchain - ChatOpenAI"
   ]
  },
  {
   "cell_type": "code",
   "execution_count": null,
   "metadata": {},
   "outputs": [],
   "source": [
    "from langchain_openai import ChatOpenAI\n",
    "\n",
    "model_name = \"eeve\"\n",
    "llm = ChatOpenAI(model=model_name,\n",
    "                 base_url=\"http://localhost:11434/v1\",\n",
    "                 api_key=\"ollama\")\n",
    "\n",
    "llm.invoke(\"hi\")"
   ]
  },
  {
   "cell_type": "markdown",
   "metadata": {},
   "source": [
    "## Ollama"
   ]
  },
  {
   "cell_type": "code",
   "execution_count": null,
   "metadata": {},
   "outputs": [],
   "source": [
    "from langchain_community.llms import Ollama\n",
    "\n",
    "model_name = 'eeve'\n",
    "llm = Ollama(model=model_name,\n",
    "             base_url=\"http://localhost:11434\")\n",
    "\n",
    "llm.invoke(\"hi\")"
   ]
  },
  {
   "cell_type": "markdown",
   "metadata": {},
   "source": [
    "## ChatOllama"
   ]
  },
  {
   "cell_type": "code",
   "execution_count": null,
   "metadata": {},
   "outputs": [],
   "source": [
    "from langchain_community.chat_models import ChatOllama\n",
    "\n",
    "model_name = 'eeve'\n",
    "llm = ChatOllama(model=model_name,\n",
    "             base_url=\"http://localhost:11434\")\n",
    "\n",
    "llm.invoke(\"hi\")"
   ]
  },
  {
   "cell_type": "markdown",
   "metadata": {},
   "source": [
    "## OllamaFunctions"
   ]
  },
  {
   "cell_type": "code",
   "execution_count": null,
   "metadata": {},
   "outputs": [],
   "source": [
    "from langchain_experimental.llms.ollama_functions import OllamaFunctions\n",
    "\n",
    "model_name = 'eeve'\n",
    "llm = OllamaFunctions(model=model_name,\n",
    "                      base_url = 'http://localhost:11434')"
   ]
  },
  {
   "cell_type": "markdown",
   "metadata": {},
   "source": [
    "## Ollama Embedding"
   ]
  },
  {
   "cell_type": "code",
   "execution_count": null,
   "metadata": {},
   "outputs": [],
   "source": [
    "from langchain_community.embeddings import OllamaEmbeddings\n",
    "ollama_emb = OllamaEmbeddings(\n",
    "    base_url = 'http://localhost:11434',\n",
    "    model = \"mxbai-embed\",\n",
    ")\n",
    "\n",
    "embed_result = ollama_emb.embed_query(\n",
    "    \"Llamas are members of the camelid family\"\n",
    ")\n",
    "embed_result"
   ]
  },
  {
   "cell_type": "code",
   "execution_count": null,
   "metadata": {},
   "outputs": [],
   "source": []
  }
 ],
 "metadata": {
  "kernelspec": {
   "display_name": "jingwan_llm_env",
   "language": "python",
   "name": "jingwan_llm_env"
  }
 },
 "nbformat": 4,
 "nbformat_minor": 2
}
