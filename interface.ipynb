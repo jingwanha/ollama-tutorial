{
 "cells": [
  {
   "cell_type": "markdown",
   "metadata": {},
   "source": [
    "# Ollama Interface 호출방법"
   ]
  },
  {
   "cell_type": "markdown",
   "metadata": {},
   "source": [
    "## OpenAI"
   ]
  },
  {
   "cell_type": "code",
   "execution_count": null,
   "metadata": {},
   "outputs": [],
   "source": [
    "from openai import OpenAI\n",
    "model_name = 'eeve'\n",
    "client = OpenAI(base_url='http://localhost:11455/v1',\n",
    "                api_key=\"ollama\")\n",
    "\n",
    "response = client.chat.completions.create(a\n",
    "    model=model_name,\n",
    "    messages = [{\"role\" : \"system\", \"content\" : \"Yor are a helpful assistant.\"},\n",
    "        {\"role\" : \"user\" , \"content\" : \"hi\"}\n",
    "        ]\n",
    ")\n",
    "\n",
    "print(response.choices[0].message.content)"
   ]
  },
  {
   "cell_type": "markdown",
   "metadata": {},
   "source": [
    "## Langchain - ChatOpenAI"
   ]
  },
  {
   "cell_type": "code",
   "execution_count": null,
   "metadata": {},
   "outputs": [],
   "source": [
    "from langchain_openai import ChatOpenAI\n",
    "\n",
    "model_name = \"eeve\"\n",
    "llm = ChatOpenAI(model=model_name,\n",
    "                 base_url=\"http://localhost:11455/v1\",\n",
    "                 api_key=\"ollama\")\n",
    "\n",
    "llm.invoke(\"hi\")"
   ]
  },
  {
   "cell_type": "markdown",
   "metadata": {},
   "source": [
    "## Ollama"
   ]
  },
  {
   "cell_type": "code",
   "execution_count": null,
   "metadata": {},
   "outputs": [],
   "source": [
    "from langchain_community.llms import Ollama\n",
    "\n",
    "model_name = 'eeve'\n",
    "llm = Ollama(model=model_name,\n",
    "             base_url=\"http://localhost:11455\")\n",
    "\n",
    "llm.invoke(\"hi\")"
   ]
  },
  {
   "cell_type": "markdown",
   "metadata": {},
   "source": [
    "## ChatOllama"
   ]
  },
  {
   "cell_type": "code",
   "execution_count": null,
   "metadata": {},
   "outputs": [],
   "source": [
    "from langchain_community.chat_models import ChatOllama\n",
    "\n",
    "model_name = 'eeve'\n",
    "llm = ChatOllama(model=model_name,\n",
    "             base_url=\"http://localhost:11455\")\n",
    "\n",
    "llm.invoke(\"hi\")"
   ]
  },
  {
   "cell_type": "markdown",
   "metadata": {},
   "source": [
    "## OllamaFunctions"
   ]
  },
  {
   "cell_type": "code",
   "execution_count": null,
   "metadata": {},
   "outputs": [],
   "source": [
    "from langchain_experimental.llms.ollama_functions import OllamaFunctions\n",
    "\n",
    "model_name = 'eeve'\n",
    "llm = OllamaFunctions(model=model_name,\n",
    "                      base_url = 'http://localhost:11455')"
   ]
  }
 ],
 "metadata": {
  "kernelspec": {
   "display_name": "jingwan_llm_env",
   "language": "python",
   "name": "jingwan_llm_env"
  },
  "language_info": {
   "codemirror_mode": {
    "name": "ipython",
    "version": 3
   },
   "file_extension": ".py",
   "mimetype": "text/x-python",
   "name": "python",
   "nbconvert_exporter": "python",
   "pygments_lexer": "ipython3",
   "version": "3.11.0"
  }
 },
 "nbformat": 4,
 "nbformat_minor": 2
}
